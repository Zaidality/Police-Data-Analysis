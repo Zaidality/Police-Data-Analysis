{
 "cells": [
  {
   "cell_type": "code",
   "execution_count": null,
   "id": "d938f33d",
   "metadata": {},
   "outputs": [],
   "source": [
    "import pandas as pd\n",
    "from matplotlib import pyplot as plt\n",
    "from scipy import stats\n",
    "from mpldatacursor import datacursor\n",
    "import os\n",
    "import csv\n",
    "import matplotlib.pyplot as plt\n",
    "import numpy as np\n",
    "\n",
    "assault_path = \"resources/Assault.csv\"\n",
    "bne_path = \"resources/Break_and_Enter.csv\"\n",
    "theft_path = \"resources/Theft_from_Motor_Vehicle.csv\"\n",
    "\n",
    "assault_df = pd.read_csv(assault_path)\n",
    "bne_df = pd.read_csv(bne_path)\n",
    "theft_df = pd.read_csv(theft_path)"
   ]
  },
  {
   "cell_type": "code",
   "execution_count": null,
   "id": "4f90a1ad",
   "metadata": {},
   "outputs": [],
   "source": [
    "merged_df = pd.concat([assault_df,bne_df,theft_df])"
   ]
  },
  {
   "cell_type": "code",
   "execution_count": null,
   "id": "989d167a",
   "metadata": {},
   "outputs": [],
   "source": [
    "#CSV path for the file for each crime\n",
    "assault_csv_path='Resources/Assault.csv'\n",
    "BnE_csv_path='Resources/Break_and_Enter.csv'\n",
    "TfV_csv_path='Resources/Theft_from_Motor_Vehicle.csv'"
   ]
  },
  {
   "cell_type": "code",
   "execution_count": null,
   "id": "4f5aa648",
   "metadata": {},
   "outputs": [],
   "source": [
    "#read from each CSV to dataframes\n",
    "assault_df=pd.read_csv(assault_csv_path)\n",
    "BnE_df=pd.read_csv(BnE_csv_path)\n",
    "TfV_df=pd.read_csv(TfV_csv_path)"
   ]
  },
  {
   "cell_type": "code",
   "execution_count": null,
   "id": "86b61f5c",
   "metadata": {},
   "outputs": [],
   "source": [
    "#Drop NA columns and convert year from float to integer to better plotting\n",
    "assault_df=assault_df.dropna()\n",
    "assault_df=assault_df.astype({\"occurrenceyear\":\"int\"})\n",
    "BnE_df=BnE_df.dropna()\n",
    "BnE_df=BnE_df.astype({\"occurrenceyear\":\"int\"})\n",
    "TfV_df=TfV_df.dropna()\n",
    "TfV_df=TfV_df.astype({\"occurrenceyear\":\"int\"})"
   ]
  },
  {
   "cell_type": "code",
   "execution_count": null,
   "id": "c8395505",
   "metadata": {},
   "outputs": [],
   "source": [
    "merged_df = pd.concat([assault_df,BnE_df,TfV_df])"
   ]
  },
  {
   "cell_type": "code",
   "execution_count": null,
   "id": "9cd96fd8",
   "metadata": {},
   "outputs": [],
   "source": [
    "Assault_Crime_by_the_year = assault_df.groupby([\"occurrenceyear\"])[\"event_unique_id\"].count()\n",
    "Assault_Crime_by_the_year"
   ]
  },
  {
   "cell_type": "code",
   "execution_count": null,
   "id": "ed92e38e",
   "metadata": {
    "scrolled": true
   },
   "outputs": [],
   "source": [
    "Assault_Crime_by_the_year=pd.DataFrame(Assault_Crime_by_the_year[14:22])\n",
    "Assault_Crime_by_the_year=Assault_Crime_by_the_year.rename(columns={\"event_unique_id\":\"Total Crimes\"})\n",
    "Assault_Crime_by_the_year = Assault_Crime_by_the_year.reset_index(level=0)\n",
    "Assault_Crime_by_the_year"
   ]
  },
  {
   "cell_type": "code",
   "execution_count": null,
   "id": "e66c4768",
   "metadata": {},
   "outputs": [],
   "source": [
    "BnE_Crime_by_the_year = BnE_df.groupby([\"occurrenceyear\"])[\"event_unique_id\"].count()\n",
    "BnE_Crime_by_the_year"
   ]
  },
  {
   "cell_type": "code",
   "execution_count": null,
   "id": "ce3b18c1",
   "metadata": {},
   "outputs": [],
   "source": [
    "BnE_Crime_by_the_year=pd.DataFrame(BnE_Crime_by_the_year[7:15])\n",
    "BnE_Crime_by_the_year=BnE_Crime_by_the_year.rename(columns={\"event_unique_id\":\"Total Crimes\"})\n",
    "BnE_Crime_by_the_year=BnE_Crime_by_the_year.reset_index(level=0)\n",
    "BnE_Crime_by_the_year"
   ]
  },
  {
   "cell_type": "code",
   "execution_count": null,
   "id": "668311d1",
   "metadata": {},
   "outputs": [],
   "source": [
    "TfV_Crime_by_the_year = TfV_df.groupby([\"occurrenceyear\"])[\"event_unique_id\"].count()\n",
    "TfV_Crime_by_the_year"
   ]
  },
  {
   "cell_type": "code",
   "execution_count": null,
   "id": "4500c41c",
   "metadata": {},
   "outputs": [],
   "source": [
    "TfV_Crime_by_the_year=pd.DataFrame(TfV_Crime_by_the_year[12:20])\n",
    "TfV_Crime_by_the_year=TfV_Crime_by_the_year.rename(columns={\"event_unique_id\":\"Total Crimes\"})\n",
    "TfV_Crime_by_the_year=TfV_Crime_by_the_year.reset_index(level=0)\n",
    "TfV_Crime_by_the_year"
   ]
  },
  {
   "cell_type": "code",
   "execution_count": null,
   "id": "7adeac42",
   "metadata": {},
   "outputs": [],
   "source": [
    "Merged_Crime_by_the_year = merged_df.groupby([\"occurrenceyear\"])[\"event_unique_id\"].count()\n",
    "Merged_Crime_by_the_year"
   ]
  },
  {
   "cell_type": "code",
   "execution_count": null,
   "id": "fcefbeb8",
   "metadata": {},
   "outputs": [],
   "source": [
    "Merged_Crime_by_the_year=pd.DataFrame(Merged_Crime_by_the_year[14:22])\n",
    "Merged_Crime_by_the_year=Merged_Crime_by_the_year.rename(columns={\"event_unique_id\":\"Total Crimes\"})\n",
    "Merged_Crime_by_the_year"
   ]
  },
  {
   "cell_type": "code",
   "execution_count": null,
   "id": "f654f166",
   "metadata": {},
   "outputs": [],
   "source": [
    "Merged_Crime_by_the_year=pd.DataFrame(Merged_Crime_by_the_year[14:22])\n",
    "Merged_Crime_by_the_year=Merged_Crime_by_the_year.rename(columns={\"event_unique_id\":\"Total Crimes\"})\n",
    "Merged_Crime_by_the_year=Merged_Crime_by_the_year.reset_index(level=0)\n",
    "Merged_Crime_by_the_year"
   ]
  },
  {
   "cell_type": "code",
   "execution_count": null,
   "id": "dbc685c2",
   "metadata": {},
   "outputs": [],
   "source": [
    "Assault_Crime_by_the_year"
   ]
  },
  {
   "cell_type": "code",
   "execution_count": null,
   "id": "6e5e4324",
   "metadata": {},
   "outputs": [],
   "source": [
    "# Assuming Assault_Crime_by_the_year, BnE_Crime_by_the_year, and TfV_Crime_by_the_year are DataFrames containing the respective crime data\n",
    "# We can create a range of years from 2014 to 2021\n",
    "years = range(2014, 2022)\n",
    "\n",
    "fig, (ax1, ax2, ax3) = plt.subplots(3, sharex=True, figsize=(10, 8))\n",
    "fig.suptitle(\"Number of Crimes Over Year 2014-2021\", fontsize=16, fontweight=\"bold\", y=1.05)  # Move the title above the subplots\n",
    "\n",
    "# Plot for Assault Crimes\n",
    "ax1.plot(years, Assault_Crime_by_the_year[\"Total Crimes\"], linewidth=3, marker=\"o\",color=\"r\")\n",
    "ax1.set_ylabel(\"Assault Crimes\")\n",
    "\n",
    "# Plot for Break and Enter Crimes\n",
    "ax2.plot(years, BnE_Crime_by_the_year[\"Total Crimes\"], linewidth=3, marker=\"o\", color=\"g\")\n",
    "ax2.set_ylabel(\"Break and Enter Crimes\")\n",
    "\n",
    "# Plot for Theft from Vehicle Crimes\n",
    "ax3.plot(years, TfV_Crime_by_the_year[\"Total Crimes\"], linewidth=3, marker=\"o\", color=\"b\")\n",
    "ax3.set_ylabel(\"Theft from Vehicle Crimes\")\n",
    "\n",
    "# Set x-axis labels for all subplots\n",
    "plt.xticks(years)\n",
    "\n",
    "plt.xlabel(\"Year\")\n",
    "plt.tight_layout()\n",
    "plt.show()\n"
   ]
  },
  {
   "cell_type": "code",
   "execution_count": 1,
   "id": "5a708c00",
   "metadata": {},
   "outputs": [
    {
     "data": {
      "image/png": "[encoded data removed]",
      "text/plain": [
       "<Figure size 720x432 with 1 Axes>"
      ]
     },
     "metadata": {
      "needs_background": "light"
     },
     "output_type": "display_data"
    }
   ],
   "source": [
    "import pandas as pd\n",
    "from matplotlib import pyplot as plt\n",
    "from sqlalchemy import create_engine\n",
    "\n",
    "# Define the paths to your CSV files\n",
    "assault_csv_path = \"resources/Assault.csv\"\n",
    "bne_csv_path = \"resources/Break_and_Enter.csv\"\n",
    "theft_csv_path = \"resources/Theft_from_Motor_Vehicle.csv\"\n",
    "\n",
    "# Read data from CSV files into pandas DataFrames\n",
    "assault_df = pd.read_csv(assault_csv_path)\n",
    "bne_df = pd.read_csv(bne_csv_path)\n",
    "theft_df = pd.read_csv(theft_csv_path)\n",
    "\n",
    "# Drop NA values and convert 'occurrenceyear' to integer\n",
    "assault_df = assault_df.dropna().astype({\"occurrenceyear\": int})\n",
    "bne_df = bne_df.dropna().astype({\"occurrenceyear\": int})\n",
    "theft_df = theft_df.dropna().astype({\"occurrenceyear\": int})\n",
    "\n",
    "# Merge the DataFrames\n",
    "merged_df = pd.concat([assault_df, bne_df, theft_df])\n",
    "\n",
    "# Initialize SQLite database engine\n",
    "engine = create_engine('sqlite:///crime_data.db', echo=False)\n",
    "\n",
    "# Store the merged DataFrame into the SQLite database\n",
    "merged_df.to_sql('crime_data', con=engine, if_exists='replace', index=False)\n",
    "\n",
    "# Query the database to get crime data grouped by year\n",
    "query = \"\"\"\n",
    "    SELECT occurrenceyear, COUNT(*) AS total_crimes\n",
    "    FROM crime_data\n",
    "    GROUP BY occurrenceyear\n",
    "\"\"\"\n",
    "\n",
    "crime_by_year_df = pd.read_sql(query, con=engine)\n",
    "\n",
    "# Plotting\n",
    "plt.figure(figsize=(10, 6))\n",
    "plt.plot(crime_by_year_df['occurrenceyear'], crime_by_year_df['total_crimes'], marker='o')\n",
    "plt.xlabel('Year')\n",
    "plt.ylabel('Total Crimes')\n",
    "plt.title('Number of Crimes Over Years')\n",
    "plt.grid(True)\n",
    "plt.show()\n"
   ]
  },
  {
   "cell_type": "code",
   "execution_count": null,
   "id": "b2a1c89b",
   "metadata": {},
   "outputs": [],
   "source": []
  }
 ],
 "metadata": {
  "kernelspec": {
   "display_name": "PythonData",
   "language": "python",
   "name": "pythondata"
  },
  "language_info": {
   "codemirror_mode": {
    "name": "ipython",
    "version": 3
   },
   "file_extension": ".py",
   "mimetype": "text/x-python",
   "name": "python",
   "nbconvert_exporter": "python",
   "pygments_lexer": "ipython3",
   "version": "3.7.7"
  }
 },
 "nbformat": 4,
 "nbformat_minor": 5
}
