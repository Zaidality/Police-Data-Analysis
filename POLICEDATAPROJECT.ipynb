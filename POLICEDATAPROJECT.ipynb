{
 "cells": [
  {
   "cell_type": "code",
   "execution_count": 85,
   "id": "014f4849",
   "metadata": {},
   "outputs": [],
   "source": [
    "import pandas as pd\n",
    "from matplotlib import pyplot as plt\n",
    "\n",
    "assault_path = \"resources/Assault.csv\"\n",
    "BnE_path = \"resources/Break_and_Enter.csv\"\n",
    "theft_path = \"resources/Theft_from_Motor_Vehicle.csv\"\n",
    "\n",
    "assault_df = pd.read_csv(assault_path)\n",
    "bne_df = pd.read_csv(bne_path)\n",
    "theft_df = pd.read_csv(theft_path)"
   ]
  },
  {
   "cell_type": "code",
   "execution_count": 86,
   "id": "f36c7d4d",
   "metadata": {},
   "outputs": [],
   "source": [
    "#Drop NA columns and convert year from float to integer to better plotting\n",
    "assault_df=assault_df.dropna()\n",
    "assault_df=assault_df.astype({\"occurrenceyear\":\"int\"})\n",
    "BnE_df=BnE_df.dropna()\n",
    "BnE_df=BnE_df.astype({\"occurrenceyear\":\"int\"})\n",
    "TfV_df=TfV_df.dropna()\n",
    "TfV_df=TfV_df.astype({\"occurrenceyear\":\"int\"})"
   ]
  },
  {
   "cell_type": "code",
   "execution_count": 87,
   "id": "f984f4f9",
   "metadata": {},
   "outputs": [],
   "source": [
    "merged_df = pd.concat([assault_df,BnE_df,TfV_df])"
   ]
  },
  {
   "cell_type": "code",
   "execution_count": 88,
   "id": "9ebb0c1f",
   "metadata": {},
   "outputs": [
    {
     "data": {
      "text/plain": [
       "occurrenceyear\n",
       "2000       20\n",
       "2001       19\n",
       "2002       13\n",
       "2003       15\n",
       "2004       22\n",
       "2005       24\n",
       "2006       11\n",
       "2007       32\n",
       "2008       40\n",
       "2009       64\n",
       "2010       80\n",
       "2011      112\n",
       "2012      164\n",
       "2013      377\n",
       "2014    16820\n",
       "2015    18128\n",
       "2016    19009\n",
       "2017    19631\n",
       "2018    19919\n",
       "2019    20932\n",
       "2020    18180\n",
       "2021    18671\n",
       "2022     9461\n",
       "Name: event_unique_id, dtype: int64"
      ]
     },
     "execution_count": 88,
     "metadata": {},
     "output_type": "execute_result"
    }
   ],
   "source": [
    "Assault_Crime_by_the_year = assault_df.groupby([\"occurrenceyear\"])[\"event_unique_id\"].count()\n",
    "Assault_Crime_by_the_year"
   ]
  },
  {
   "cell_type": "code",
   "execution_count": 89,
   "id": "51b05fd1",
   "metadata": {
    "scrolled": true
   },
   "outputs": [
    {
     "data": {
      "text/html": [
       "<div>\n",
       "<style scoped>\n",
       "    .dataframe tbody tr th:only-of-type {\n",
       "        vertical-align: middle;\n",
       "    }\n",
       "\n",
       "    .dataframe tbody tr th {\n",
       "        vertical-align: top;\n",
       "    }\n",
       "\n",
       "    .dataframe thead th {\n",
       "        text-align: right;\n",
       "    }\n",
       "</style>\n",
       "<table border=\"1\" class=\"dataframe\">\n",
       "  <thead>\n",
       "    <tr style=\"text-align: right;\">\n",
       "      <th></th>\n",
       "      <th>occurrenceyear</th>\n",
       "      <th>Total Crimes</th>\n",
       "    </tr>\n",
       "  </thead>\n",
       "  <tbody>\n",
       "    <tr>\n",
       "      <th>0</th>\n",
       "      <td>2014</td>\n",
       "      <td>16820</td>\n",
       "    </tr>\n",
       "    <tr>\n",
       "      <th>1</th>\n",
       "      <td>2015</td>\n",
       "      <td>18128</td>\n",
       "    </tr>\n",
       "    <tr>\n",
       "      <th>2</th>\n",
       "      <td>2016</td>\n",
       "      <td>19009</td>\n",
       "    </tr>\n",
       "    <tr>\n",
       "      <th>3</th>\n",
       "      <td>2017</td>\n",
       "      <td>19631</td>\n",
       "    </tr>\n",
       "    <tr>\n",
       "      <th>4</th>\n",
       "      <td>2018</td>\n",
       "      <td>19919</td>\n",
       "    </tr>\n",
       "    <tr>\n",
       "      <th>5</th>\n",
       "      <td>2019</td>\n",
       "      <td>20932</td>\n",
       "    </tr>\n",
       "    <tr>\n",
       "      <th>6</th>\n",
       "      <td>2020</td>\n",
       "      <td>18180</td>\n",
       "    </tr>\n",
       "    <tr>\n",
       "      <th>7</th>\n",
       "      <td>2021</td>\n",
       "      <td>18671</td>\n",
       "    </tr>\n",
       "  </tbody>\n",
       "</table>\n",
       "</div>"
      ],
      "text/plain": [
       "   occurrenceyear  Total Crimes\n",
       "0            2014         16820\n",
       "1            2015         18128\n",
       "2            2016         19009\n",
       "3            2017         19631\n",
       "4            2018         19919\n",
       "5            2019         20932\n",
       "6            2020         18180\n",
       "7            2021         18671"
      ]
     },
     "execution_count": 89,
     "metadata": {},
     "output_type": "execute_result"
    }
   ],
   "source": [
    "Assault_Crime_by_the_year=pd.DataFrame(Assault_Crime_by_the_year[14:22])\n",
    "Assault_Crime_by_the_year=Assault_Crime_by_the_year.rename(columns={\"event_unique_id\":\"Total Crimes\"})\n",
    "Assault_Crime_by_the_year = Assault_Crime_by_the_year.reset_index(level=0)\n",
    "Assault_Crime_by_the_year"
   ]
  },
  {
   "cell_type": "code",
   "execution_count": 90,
   "id": "071c866f",
   "metadata": {},
   "outputs": [
    {
     "data": {
      "text/plain": [
       "occurrenceyear\n",
       "2001       1\n",
       "2002       2\n",
       "2009       1\n",
       "2010       5\n",
       "2011       3\n",
       "2012       4\n",
       "2013      75\n",
       "2014    7230\n",
       "2015    6939\n",
       "2016    6434\n",
       "2017    6936\n",
       "2018    7651\n",
       "2019    8573\n",
       "2020    6952\n",
       "2021    5658\n",
       "Name: event_unique_id, dtype: int64"
      ]
     },
     "execution_count": 90,
     "metadata": {},
     "output_type": "execute_result"
    }
   ],
   "source": [
    "BnE_Crime_by_the_year = BnE_df.groupby([\"occurrenceyear\"])[\"event_unique_id\"].count()\n",
    "BnE_Crime_by_the_year"
   ]
  },
  {
   "cell_type": "code",
   "execution_count": 91,
   "id": "6ff56584",
   "metadata": {},
   "outputs": [
    {
     "data": {
      "text/html": [
       "<div>\n",
       "<style scoped>\n",
       "    .dataframe tbody tr th:only-of-type {\n",
       "        vertical-align: middle;\n",
       "    }\n",
       "\n",
       "    .dataframe tbody tr th {\n",
       "        vertical-align: top;\n",
       "    }\n",
       "\n",
       "    .dataframe thead th {\n",
       "        text-align: right;\n",
       "    }\n",
       "</style>\n",
       "<table border=\"1\" class=\"dataframe\">\n",
       "  <thead>\n",
       "    <tr style=\"text-align: right;\">\n",
       "      <th></th>\n",
       "      <th>occurrenceyear</th>\n",
       "      <th>Total Crimes</th>\n",
       "    </tr>\n",
       "  </thead>\n",
       "  <tbody>\n",
       "    <tr>\n",
       "      <th>0</th>\n",
       "      <td>2014</td>\n",
       "      <td>7230</td>\n",
       "    </tr>\n",
       "    <tr>\n",
       "      <th>1</th>\n",
       "      <td>2015</td>\n",
       "      <td>6939</td>\n",
       "    </tr>\n",
       "    <tr>\n",
       "      <th>2</th>\n",
       "      <td>2016</td>\n",
       "      <td>6434</td>\n",
       "    </tr>\n",
       "    <tr>\n",
       "      <th>3</th>\n",
       "      <td>2017</td>\n",
       "      <td>6936</td>\n",
       "    </tr>\n",
       "    <tr>\n",
       "      <th>4</th>\n",
       "      <td>2018</td>\n",
       "      <td>7651</td>\n",
       "    </tr>\n",
       "    <tr>\n",
       "      <th>5</th>\n",
       "      <td>2019</td>\n",
       "      <td>8573</td>\n",
       "    </tr>\n",
       "    <tr>\n",
       "      <th>6</th>\n",
       "      <td>2020</td>\n",
       "      <td>6952</td>\n",
       "    </tr>\n",
       "    <tr>\n",
       "      <th>7</th>\n",
       "      <td>2021</td>\n",
       "      <td>5658</td>\n",
       "    </tr>\n",
       "  </tbody>\n",
       "</table>\n",
       "</div>"
      ],
      "text/plain": [
       "   occurrenceyear  Total Crimes\n",
       "0            2014          7230\n",
       "1            2015          6939\n",
       "2            2016          6434\n",
       "3            2017          6936\n",
       "4            2018          7651\n",
       "5            2019          8573\n",
       "6            2020          6952\n",
       "7            2021          5658"
      ]
     },
     "execution_count": 91,
     "metadata": {},
     "output_type": "execute_result"
    }
   ],
   "source": [
    "BnE_Crime_by_the_year=pd.DataFrame(BnE_Crime_by_the_year[7:15])\n",
    "BnE_Crime_by_the_year=BnE_Crime_by_the_year.rename(columns={\"event_unique_id\":\"Total Crimes\"})\n",
    "BnE_Crime_by_the_year=BnE_Crime_by_the_year.reset_index(level=0)\n",
    "BnE_Crime_by_the_year"
   ]
  },
  {
   "cell_type": "code",
   "execution_count": 92,
   "id": "48b0579f",
   "metadata": {},
   "outputs": [
    {
     "data": {
      "text/plain": [
       "occurrenceyear\n",
       "2000        2\n",
       "2001        1\n",
       "2002        3\n",
       "2003        5\n",
       "2004        7\n",
       "2007        3\n",
       "2008       10\n",
       "2009        9\n",
       "2010        7\n",
       "2011       13\n",
       "2012       22\n",
       "2013      131\n",
       "2014     9715\n",
       "2015     8796\n",
       "2016     7748\n",
       "2017     8438\n",
       "2018     9122\n",
       "2019     9939\n",
       "2020    10260\n",
       "2021     8188\n",
       "2022     4479\n",
       "Name: event_unique_id, dtype: int64"
      ]
     },
     "execution_count": 92,
     "metadata": {},
     "output_type": "execute_result"
    }
   ],
   "source": [
    "TfV_Crime_by_the_year = TfV_df.groupby([\"occurrenceyear\"])[\"event_unique_id\"].count()\n",
    "TfV_Crime_by_the_year"
   ]
  },
  {
   "cell_type": "code",
   "execution_count": 93,
   "id": "4837b08e",
   "metadata": {},
   "outputs": [
    {
     "data": {
      "text/html": [
       "<div>\n",
       "<style scoped>\n",
       "    .dataframe tbody tr th:only-of-type {\n",
       "        vertical-align: middle;\n",
       "    }\n",
       "\n",
       "    .dataframe tbody tr th {\n",
       "        vertical-align: top;\n",
       "    }\n",
       "\n",
       "    .dataframe thead th {\n",
       "        text-align: right;\n",
       "    }\n",
       "</style>\n",
       "<table border=\"1\" class=\"dataframe\">\n",
       "  <thead>\n",
       "    <tr style=\"text-align: right;\">\n",
       "      <th></th>\n",
       "      <th>occurrenceyear</th>\n",
       "      <th>Total Crimes</th>\n",
       "    </tr>\n",
       "  </thead>\n",
       "  <tbody>\n",
       "    <tr>\n",
       "      <th>0</th>\n",
       "      <td>2014</td>\n",
       "      <td>9715</td>\n",
       "    </tr>\n",
       "    <tr>\n",
       "      <th>1</th>\n",
       "      <td>2015</td>\n",
       "      <td>8796</td>\n",
       "    </tr>\n",
       "    <tr>\n",
       "      <th>2</th>\n",
       "      <td>2016</td>\n",
       "      <td>7748</td>\n",
       "    </tr>\n",
       "    <tr>\n",
       "      <th>3</th>\n",
       "      <td>2017</td>\n",
       "      <td>8438</td>\n",
       "    </tr>\n",
       "    <tr>\n",
       "      <th>4</th>\n",
       "      <td>2018</td>\n",
       "      <td>9122</td>\n",
       "    </tr>\n",
       "    <tr>\n",
       "      <th>5</th>\n",
       "      <td>2019</td>\n",
       "      <td>9939</td>\n",
       "    </tr>\n",
       "    <tr>\n",
       "      <th>6</th>\n",
       "      <td>2020</td>\n",
       "      <td>10260</td>\n",
       "    </tr>\n",
       "    <tr>\n",
       "      <th>7</th>\n",
       "      <td>2021</td>\n",
       "      <td>8188</td>\n",
       "    </tr>\n",
       "  </tbody>\n",
       "</table>\n",
       "</div>"
      ],
      "text/plain": [
       "   occurrenceyear  Total Crimes\n",
       "0            2014          9715\n",
       "1            2015          8796\n",
       "2            2016          7748\n",
       "3            2017          8438\n",
       "4            2018          9122\n",
       "5            2019          9939\n",
       "6            2020         10260\n",
       "7            2021          8188"
      ]
     },
     "execution_count": 93,
     "metadata": {},
     "output_type": "execute_result"
    }
   ],
   "source": [
    "TfV_Crime_by_the_year=pd.DataFrame(TfV_Crime_by_the_year[12:20])\n",
    "TfV_Crime_by_the_year=TfV_Crime_by_the_year.rename(columns={\"event_unique_id\":\"Total Crimes\"})\n",
    "TfV_Crime_by_the_year=TfV_Crime_by_the_year.reset_index(level=0)\n",
    "TfV_Crime_by_the_year"
   ]
  },
  {
   "cell_type": "code",
   "execution_count": 94,
   "id": "a339f194",
   "metadata": {},
   "outputs": [
    {
     "data": {
      "text/plain": [
       "occurrenceyear\n",
       "2000       22\n",
       "2001       21\n",
       "2002       18\n",
       "2003       20\n",
       "2004       29\n",
       "2005       24\n",
       "2006       11\n",
       "2007       35\n",
       "2008       50\n",
       "2009       74\n",
       "2010       92\n",
       "2011      128\n",
       "2012      190\n",
       "2013      583\n",
       "2014    33765\n",
       "2015    33863\n",
       "2016    33191\n",
       "2017    35005\n",
       "2018    36692\n",
       "2019    39444\n",
       "2020    35392\n",
       "2021    32517\n",
       "2022    13940\n",
       "Name: event_unique_id, dtype: int64"
      ]
     },
     "execution_count": 94,
     "metadata": {},
     "output_type": "execute_result"
    }
   ],
   "source": [
    "Merged_Crime_by_the_year = merged_df.groupby([\"occurrenceyear\"])[\"event_unique_id\"].count()\n",
    "Merged_Crime_by_the_year"
   ]
  },
  {
   "cell_type": "code",
   "execution_count": 95,
   "id": "e192c094",
   "metadata": {},
   "outputs": [
    {
     "data": {
      "text/html": [
       "<div>\n",
       "<style scoped>\n",
       "    .dataframe tbody tr th:only-of-type {\n",
       "        vertical-align: middle;\n",
       "    }\n",
       "\n",
       "    .dataframe tbody tr th {\n",
       "        vertical-align: top;\n",
       "    }\n",
       "\n",
       "    .dataframe thead th {\n",
       "        text-align: right;\n",
       "    }\n",
       "</style>\n",
       "<table border=\"1\" class=\"dataframe\">\n",
       "  <thead>\n",
       "    <tr style=\"text-align: right;\">\n",
       "      <th></th>\n",
       "      <th>Total Crimes</th>\n",
       "    </tr>\n",
       "    <tr>\n",
       "      <th>occurrenceyear</th>\n",
       "      <th></th>\n",
       "    </tr>\n",
       "  </thead>\n",
       "  <tbody>\n",
       "    <tr>\n",
       "      <th>2014</th>\n",
       "      <td>33765</td>\n",
       "    </tr>\n",
       "    <tr>\n",
       "      <th>2015</th>\n",
       "      <td>33863</td>\n",
       "    </tr>\n",
       "    <tr>\n",
       "      <th>2016</th>\n",
       "      <td>33191</td>\n",
       "    </tr>\n",
       "    <tr>\n",
       "      <th>2017</th>\n",
       "      <td>35005</td>\n",
       "    </tr>\n",
       "    <tr>\n",
       "      <th>2018</th>\n",
       "      <td>36692</td>\n",
       "    </tr>\n",
       "    <tr>\n",
       "      <th>2019</th>\n",
       "      <td>39444</td>\n",
       "    </tr>\n",
       "    <tr>\n",
       "      <th>2020</th>\n",
       "      <td>35392</td>\n",
       "    </tr>\n",
       "    <tr>\n",
       "      <th>2021</th>\n",
       "      <td>32517</td>\n",
       "    </tr>\n",
       "  </tbody>\n",
       "</table>\n",
       "</div>"
      ],
      "text/plain": [
       "                Total Crimes\n",
       "occurrenceyear              \n",
       "2014                   33765\n",
       "2015                   33863\n",
       "2016                   33191\n",
       "2017                   35005\n",
       "2018                   36692\n",
       "2019                   39444\n",
       "2020                   35392\n",
       "2021                   32517"
      ]
     },
     "execution_count": 95,
     "metadata": {},
     "output_type": "execute_result"
    }
   ],
   "source": [
    "Merged_Crime_by_the_year=pd.DataFrame(Merged_Crime_by_the_year[14:22])\n",
    "Merged_Crime_by_the_year=Merged_Crime_by_the_year.rename(columns={\"event_unique_id\":\"Total Crimes\"})\n",
    "Merged_Crime_by_the_year"
   ]
  },
  {
   "cell_type": "code",
   "execution_count": 96,
   "id": "48394b91",
   "metadata": {},
   "outputs": [
    {
     "data": {
      "text/html": [
       "<div>\n",
       "<style scoped>\n",
       "    .dataframe tbody tr th:only-of-type {\n",
       "        vertical-align: middle;\n",
       "    }\n",
       "\n",
       "    .dataframe tbody tr th {\n",
       "        vertical-align: top;\n",
       "    }\n",
       "\n",
       "    .dataframe thead th {\n",
       "        text-align: right;\n",
       "    }\n",
       "</style>\n",
       "<table border=\"1\" class=\"dataframe\">\n",
       "  <thead>\n",
       "    <tr style=\"text-align: right;\">\n",
       "      <th></th>\n",
       "      <th>occurrenceyear</th>\n",
       "      <th>Total Crimes</th>\n",
       "    </tr>\n",
       "  </thead>\n",
       "  <tbody>\n",
       "  </tbody>\n",
       "</table>\n",
       "</div>"
      ],
      "text/plain": [
       "Empty DataFrame\n",
       "Columns: [occurrenceyear, Total Crimes]\n",
       "Index: []"
      ]
     },
     "execution_count": 96,
     "metadata": {},
     "output_type": "execute_result"
    }
   ],
   "source": [
    "Merged_Crime_by_the_year=pd.DataFrame(Merged_Crime_by_the_year[14:22])\n",
    "Merged_Crime_by_the_year=Merged_Crime_by_the_year.rename(columns={\"event_unique_id\":\"Total Crimes\"})\n",
    "Merged_Crime_by_the_year=Merged_Crime_by_the_year.reset_index(level=0)\n",
    "Merged_Crime_by_the_year"
   ]
  },
  {
   "cell_type": "code",
   "execution_count": 97,
   "id": "c530a45e",
   "metadata": {},
   "outputs": [
    {
     "data": {
      "text/html": [
       "<div>\n",
       "<style scoped>\n",
       "    .dataframe tbody tr th:only-of-type {\n",
       "        vertical-align: middle;\n",
       "    }\n",
       "\n",
       "    .dataframe tbody tr th {\n",
       "        vertical-align: top;\n",
       "    }\n",
       "\n",
       "    .dataframe thead th {\n",
       "        text-align: right;\n",
       "    }\n",
       "</style>\n",
       "<table border=\"1\" class=\"dataframe\">\n",
       "  <thead>\n",
       "    <tr style=\"text-align: right;\">\n",
       "      <th></th>\n",
       "      <th>occurrenceyear</th>\n",
       "      <th>Total Crimes</th>\n",
       "    </tr>\n",
       "  </thead>\n",
       "  <tbody>\n",
       "    <tr>\n",
       "      <th>0</th>\n",
       "      <td>2014</td>\n",
       "      <td>16820</td>\n",
       "    </tr>\n",
       "    <tr>\n",
       "      <th>1</th>\n",
       "      <td>2015</td>\n",
       "      <td>18128</td>\n",
       "    </tr>\n",
       "    <tr>\n",
       "      <th>2</th>\n",
       "      <td>2016</td>\n",
       "      <td>19009</td>\n",
       "    </tr>\n",
       "    <tr>\n",
       "      <th>3</th>\n",
       "      <td>2017</td>\n",
       "      <td>19631</td>\n",
       "    </tr>\n",
       "    <tr>\n",
       "      <th>4</th>\n",
       "      <td>2018</td>\n",
       "      <td>19919</td>\n",
       "    </tr>\n",
       "    <tr>\n",
       "      <th>5</th>\n",
       "      <td>2019</td>\n",
       "      <td>20932</td>\n",
       "    </tr>\n",
       "    <tr>\n",
       "      <th>6</th>\n",
       "      <td>2020</td>\n",
       "      <td>18180</td>\n",
       "    </tr>\n",
       "    <tr>\n",
       "      <th>7</th>\n",
       "      <td>2021</td>\n",
       "      <td>18671</td>\n",
       "    </tr>\n",
       "  </tbody>\n",
       "</table>\n",
       "</div>"
      ],
      "text/plain": [
       "   occurrenceyear  Total Crimes\n",
       "0            2014         16820\n",
       "1            2015         18128\n",
       "2            2016         19009\n",
       "3            2017         19631\n",
       "4            2018         19919\n",
       "5            2019         20932\n",
       "6            2020         18180\n",
       "7            2021         18671"
      ]
     },
     "execution_count": 97,
     "metadata": {},
     "output_type": "execute_result"
    }
   ],
   "source": [
    "Assault_Crime_by_the_year"
   ]
  },
  {
   "cell_type": "code",
   "execution_count": 98,
   "id": "75866479",
   "metadata": {},
   "outputs": [
    {
     "data": {
      "image/png": "[encoded data removed]",
      "text/plain": [
       "<Figure size 720x576 with 3 Axes>"
      ]
     },
     "metadata": {
      "needs_background": "light"
     },
     "output_type": "display_data"
    }
   ],
   "source": [
    "years = range(2014, 2022)\n",
    "\n",
    "fig, (ax1, ax2, ax3) = plt.subplots(3, sharex=True, figsize=(10, 8))\n",
    "fig.suptitle(\"Number of Crimes Over Year 2014-2021\", fontsize=16, fontweight=\"bold\", y=1.05)  # Move the title above the subplots\n",
    "\n",
    "# Plot for Assault Crimes\n",
    "ax1.plot(years, Assault_Crime_by_the_year[\"Total Crimes\"], linewidth=3, marker=\"o\",color=\"r\")\n",
    "ax1.set_ylabel(\"Assault Crimes\")\n",
    "\n",
    "# Plot for Break and Enter Crimes\n",
    "ax2.plot(years, BnE_Crime_by_the_year[\"Total Crimes\"], linewidth=3, marker=\"o\", color=\"g\")\n",
    "ax2.set_ylabel(\"Break and Enter Crimes\")\n",
    "\n",
    "# Plot for Theft from Vehicle Crimes\n",
    "ax3.plot(years, TfV_Crime_by_the_year[\"Total Crimes\"], linewidth=3, marker=\"o\", color=\"b\")\n",
    "ax3.set_ylabel(\"Theft from Vehicle Crimes\")\n",
    "\n",
    "# Set x-axis labels for all subplots\n",
    "plt.xticks(years)\n",
    "\n",
    "plt.xlabel(\"Year\")\n",
    "plt.tight_layout()\n",
    "plt.show()\n"
   ]
  },
  {
   "cell_type": "code",
   "execution_count": null,
   "id": "9893c0fb",
   "metadata": {},
   "outputs": [],
   "source": []
  }
 ],
 "metadata": {
  "kernelspec": {
   "display_name": "PythonData",
   "language": "python",
   "name": "pythondata"
  },
  "language_info": {
   "codemirror_mode": {
    "name": "ipython",
    "version": 3
   },
   "file_extension": ".py",
   "mimetype": "text/x-python",
   "name": "python",
   "nbconvert_exporter": "python",
   "pygments_lexer": "ipython3",
   "version": "3.7.7"
  }
 },
 "nbformat": 4,
 "nbformat_minor": 5
}
